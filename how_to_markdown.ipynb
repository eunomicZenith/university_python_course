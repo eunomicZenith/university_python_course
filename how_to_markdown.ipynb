{
 "cells": [
  {
   "cell_type": "markdown",
   "source": [
    "# Titolo del mio documento?\n",
    "## Secondo titolo\n",
    "### Terzo etc.\n",
    "<a id=\"ancora\"></a>\n",
    "> Citazione\n",
    "\n",
    "`linea di codice`\n",
    "```\n",
    "blocco\n",
    "di codice\n",
    "```\n",
    "```python\n",
    "string = 'Blocco di codice con evidenziazione in Python'\n",
    "print(string)\n",
    "```\n",
    "https://rpruim.github.io/s341/S19/from-class/MathinRmd.html\n",
    "Se spezzi una linea così\n",
    "\n",
    "crea un paragrafo nuovo, mentre se usi <br>va a capo e basta\n",
    "\n",
    "**Bold text**\n",
    "*Cursive text*\n",
    "**_Both cursive and bold_**\n",
    "\n",
    "To make a line, use three dashes (with an empty row before it)\n",
    "\n",
    "---\n",
    "Or maybe just use <hr>\n",
    "\n",
    "Lista ordinata:\n",
    "1. Ready\n",
    "2. Steady\n",
    "3. Go\n",
    "\n",
    "Lista puntata:\n",
    "- Bread\n",
    "- Ham\n",
    "- Cheese\n",
    "\n",
    "Lista mista:\n",
    "- Mammals\n",
    "  1. Lions\n",
    "  2. Hedgehogs\n",
    "- Birds\n",
    "  1. Cranes\n",
    "  2. Crows\n",
    "\n",
    "Link esterno: [Clicca qui!](https://google.it)\n",
    "\n",
    "Link interno: [Clicca qua!](#ancora) Bisogna inserire un'ancora (scrolla in su per vederla)\n",
    "\n",
    "Come fare una tabella:\n",
    "\n",
    "|Name                 |Address               |Salary|\n",
    "|---------------------|----------------------|------|\n",
    "|Carl Bjorn           |Via Mille Duemilioni  |60_000|\n",
    "|Sabrina Cristoforetti|Via Cavoli Cappucci   |99_999|\n",
    "\n",
    "Immagine:\n",
    "<img src=\"https://i.imgur.com/MCcSQ7S.png\" width=\"200\">\n",
    "\n",
    "<p style=\"color: #00bfff\">\n",
    "Questo testo sarà colorato <p>"
   ],
   "metadata": {
    "collapsed": false
   }
  },
  {
   "cell_type": "code",
   "execution_count": 5,
   "outputs": [],
   "source": [],
   "metadata": {
    "collapsed": false
   }
  },
  {
   "cell_type": "code",
   "execution_count": null,
   "outputs": [],
   "source": [],
   "metadata": {
    "collapsed": false
   }
  }
 ],
 "metadata": {
  "kernelspec": {
   "display_name": "Python 3",
   "language": "python",
   "name": "python3"
  },
  "language_info": {
   "codemirror_mode": {
    "name": "ipython",
    "version": 2
   },
   "file_extension": ".py",
   "mimetype": "text/x-python",
   "name": "python",
   "nbconvert_exporter": "python",
   "pygments_lexer": "ipython2",
   "version": "2.7.6"
  }
 },
 "nbformat": 4,
 "nbformat_minor": 0
}
